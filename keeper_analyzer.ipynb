{
 "cells": [
  {
   "cell_type": "code",
   "execution_count": 24,
   "id": "b759e755-f379-4a20-9ec4-11e9b54d578f",
   "metadata": {},
   "outputs": [],
   "source": [
    "import pandas as pd\n",
    "import numpy as np\n"
   ]
  },
  {
   "cell_type": "code",
   "execution_count": 25,
   "id": "a0227699-8cb4-464b-8714-55c9de0cd902",
   "metadata": {},
   "outputs": [],
   "source": [
    "# Load data\n",
    "projections = pd.read_csv('your_file_cleaned.csv').dropna(subset=['Player'])\n",
    "adp = pd.read_csv('fantasy_players_from_paste.csv').dropna(subset=['Player'])\n",
    "s4_points = pd.read_csv('2024_s.csv').dropna(subset=['Player'])\n"
   ]
  },
  {
   "cell_type": "code",
   "execution_count": 26,
   "id": "84efffec-3c7c-439e-b4af-2ab7f2981744",
   "metadata": {},
   "outputs": [],
   "source": [
    "# Clean player names\n",
    "for df in [projections, adp, s4_points]:\n",
    "    df['Player'] = df['Player'].str.strip()\n"
   ]
  },
  {
   "cell_type": "code",
   "execution_count": 27,
   "id": "adec06ea-2cdd-4d70-96a8-017f53ce29fa",
   "metadata": {},
   "outputs": [
    {
     "name": "stdin",
     "output_type": "stream",
     "text": [
      "How many players do you wish to analyze?:  1\n"
     ]
    }
   ],
   "source": [
    "# Get user input\n",
    "num_players = int(input('How many players do you wish to analyze?: '))\n",
    "player_analyzed = []\n",
    "inherited_pick = []\n"
   ]
  },
  {
   "cell_type": "code",
   "execution_count": 28,
   "id": "8916b34f-c0c7-4406-9d10-57d83f3ef0f5",
   "metadata": {},
   "outputs": [
    {
     "name": "stdin",
     "output_type": "stream",
     "text": [
      "Player 1:  George Kittle\n",
      "Inherited Pick 1:  5.4\n"
     ]
    }
   ],
   "source": [
    "\n",
    "for i in range(num_players):\n",
    "    player_analyzed.append(input(f'Player {i + 1}: ').strip())\n",
    "    inherited_pick.append(float(input(f'Inherited Pick {i + 1}: ')))\n"
   ]
  },
  {
   "cell_type": "code",
   "execution_count": 29,
   "id": "9cf508ca-d967-4fb1-97b3-a724d62711d9",
   "metadata": {},
   "outputs": [],
   "source": [
    "# Create input DataFrame\n",
    "input_data = pd.DataFrame({\n",
    "    'Player': player_analyzed,\n",
    "    'Inherited Pick': inherited_pick\n",
    "})\n"
   ]
  },
  {
   "cell_type": "code",
   "execution_count": 30,
   "id": "2a8ad1cc-79d8-4f94-a22f-65cdc8e16117",
   "metadata": {},
   "outputs": [],
   "source": [
    "\n",
    "# Safe merge function\n",
    "def safe_merge(left, right, on_col='Player'):\n",
    "    right = right.drop_duplicates(subset=[on_col])\n",
    "    return pd.merge(left, right, on=on_col, how='left')\n"
   ]
  },
  {
   "cell_type": "code",
   "execution_count": 31,
   "id": "a3f26aaa-1681-452e-acd6-f7f497eec347",
   "metadata": {},
   "outputs": [],
   "source": [
    "# Perform all merges\n",
    "merged = safe_merge(input_data, projections)\n",
    "merged = safe_merge(merged, adp)\n",
    "merged = safe_merge(merged, s4_points)\n"
   ]
  },
  {
   "cell_type": "code",
   "execution_count": 32,
   "id": "69bc95e4-313f-4138-8911-1f91ce52d862",
   "metadata": {},
   "outputs": [],
   "source": [
    "# Fill missing values\n",
    "merged['ADP'] = merged['ADP'].fillna(999)\n",
    "merged['Projected_Points'] = merged['Projected_Points'].fillna(0)\n"
   ]
  },
  {
   "cell_type": "code",
   "execution_count": 33,
   "id": "05a36729-e3d2-4257-ae03-5c20bb73cba5",
   "metadata": {},
   "outputs": [
    {
     "name": "stdout",
     "output_type": "stream",
     "text": [
      "                       Player Position Team   ADP  MarketIndex   Opp    GP  \\\n",
      "0               Ja'Marr Chase       WR  CIN   1.1         -3.0  @CLE  16.0   \n",
      "1              Saquon Barkley       RB  PHI   1.2          1.0   DAL  15.0   \n",
      "2              Bijan Robinson       RB  ATL   1.3          1.0    TB  15.0   \n",
      "3            Justin Jefferson       WR  MIN   1.4         -4.0  @CHI  16.0   \n",
      "4                Jahmyr Gibbs       RB  DET   1.5         -1.0   @GB  15.0   \n",
      "..                        ...      ...  ...   ...          ...   ...   ...   \n",
      "295      Jacksonville Jaguars      DEF  JAC  30.6        -97.0   NaN   NaN   \n",
      "296            Khalil Herbert       RB  IND  30.7          NaN   MIA  16.0   \n",
      "297        New Orleans Saints      DEF   NO  30.8          NaN   NaN   NaN   \n",
      "298  Marquez Valdes-Scantling       WR  SEA  30.9          NaN    SF  16.0   \n",
      "299              Kirk Cousins       QB  ATL  30.1          NaN    TB   1.0   \n",
      "\n",
      "    Passing_Yards Passing_TD Passing_Int Rushing_Yards  Projected_Points  \\\n",
      "0               -          -           -            23            328.30   \n",
      "1               -          -           -          1680            296.20   \n",
      "2               -          -           -          1348            309.40   \n",
      "3               -          -           -             6            298.30   \n",
      "4               -          -           -          1204            300.90   \n",
      "..            ...        ...         ...           ...               ...   \n",
      "295           NaN        NaN         NaN           NaN               NaN   \n",
      "296             -          -           -           127             29.00   \n",
      "297           NaN        NaN         NaN           NaN               NaN   \n",
      "298             -          -           -             4             70.70   \n",
      "299           231          1           1             2             11.44   \n",
      "\n",
      "     PosRank  PosCount  \n",
      "0        1.0        94  \n",
      "1        3.0        78  \n",
      "2        1.0        78  \n",
      "3        3.0        94  \n",
      "4        2.0        78  \n",
      "..       ...       ...  \n",
      "295      NaN         0  \n",
      "296     78.0        78  \n",
      "297      NaN         0  \n",
      "298     89.0        94  \n",
      "299     37.0        37  \n",
      "\n",
      "[300 rows x 14 columns]\n"
     ]
    }
   ],
   "source": [
    "# Calculate position ranks, I need to calculate posiiton scarcity, how doe the top 3 of the position\n",
    "#compare with the rest, if there is notable difference, reward, if not, keep same\n",
    "position_projected = safe_merge(adp, projections)\n",
    "position_projected['PosRank'] = position_projected.groupby('Position')['Projected_Points'].rank(ascending=False)\n",
    "position_projected['PosCount'] = position_projected.groupby('Position')['Projected_Points'].transform('count')\n",
    "\n",
    "print(position_projected)\n",
    "\n"
   ]
  },
  {
   "cell_type": "code",
   "execution_count": 34,
   "id": "47192140-1665-4e4f-b9c2-acd6a6e24080",
   "metadata": {},
   "outputs": [
    {
     "name": "stdout",
     "output_type": "stream",
     "text": [
      "          Player  Inherited Pick   Opp  GP Passing_Yards Passing_TD  \\\n",
      "0  George Kittle             5.4  @SEA  15             -          -   \n",
      "\n",
      "  Passing_Int Rushing_Yards  Projected_Points Position  ...   13    14    15  \\\n",
      "0           -             -             207.0       TE  ...  1.7  21.1  10.1   \n",
      "\n",
      "     16    17   18   AVG    TTL PosRank PosCount  \n",
      "0  18.6  19.2  4.7  15.8  236.6     3.0       40  \n",
      "\n",
      "[1 rows x 38 columns]\n"
     ]
    }
   ],
   "source": [
    "\n",
    "# Merge ranks back\n",
    "merged = safe_merge(merged, position_projected[['Player', 'PosRank', 'PosCount']])\n",
    "print(merged)"
   ]
  },
  {
   "cell_type": "code",
   "execution_count": 35,
   "id": "2bf79163-ad72-4dd3-a14f-2b2dde4ce6c0",
   "metadata": {},
   "outputs": [],
   "source": [
    "#Need to calculate position scarcity\n",
    "\n",
    "def calculate_weights(df):\n",
    "    df['smooth_decay'] = 1 / (df['ADP'] ** 0.5).replace(0, 1e-10)\n",
    "    df['weighted_gap'] = (df['Inherited Pick'] - df['ADP']) * df['smooth_decay']\n",
    "    df['scarcity_weight'] = 1 + (1 - (df['PosRank'] - 1) / df['PosCount'].replace(0, 1))\n",
    "\n",
    "    def fluid_position_weight(row):\n",
    "        pos = str(row['Position']).strip()\n",
    "        adp = row['ADP']\n",
    "        if pos == 'RB':\n",
    "            return 1 / (1 + np.exp((adp - 2.0) * 2))  # Peak at 2.0\n",
    "        elif pos == 'WR':\n",
    "            return 1 / (1 + np.exp((adp - 3.0) * 1.5))  # Softer decay\n",
    "        elif pos == 'TE':\n",
    "            return np.exp(-((adp - 3.5) ** 2) / 6)  # Wider bell curve\n",
    "        elif pos == 'QB':\n",
    "            return np.exp(-((adp - 5.0) ** 2) / 8)  # Later peak\n",
    "        elif pos in ['DEF', 'K']:\n",
    "            return 1 / (1 + np.exp(-(adp - 10)))  # Push to later rounds\n",
    "        return 0.8\n",
    "\n",
    "    df['position_weight'] = df.apply(fluid_position_weight, axis=1)\n",
    "    return df\n",
    "\n",
    "merged = calculate_weights(merged)"
   ]
  },
  {
   "cell_type": "code",
   "execution_count": 36,
   "id": "d5eb01b9-8650-4dfc-b32e-162f19b50e5f",
   "metadata": {},
   "outputs": [],
   "source": [
    "# Calculate total value\n",
    "merged['total_value'] = (merged['Projected_Points'] *\n",
    "                         merged['weighted_gap'] *\n",
    "                         merged['scarcity_weight'] *\n",
    "                         merged['position_weight'])\n"
   ]
  },
  {
   "cell_type": "code",
   "execution_count": 37,
   "id": "d097d917-9a26-4504-96e0-aaa705795115",
   "metadata": {},
   "outputs": [],
   "source": [
    "# Sharpe Ratio Calculation\n",
    "weekly_cols = [col for col in merged.columns if col.isdigit()]\n",
    "sharpe_data = []\n",
    "\n",
    "for player in input_data['Player']:\n",
    "    player_mask = merged['Player'].str.strip() == player.strip()\n",
    "    player_data = merged[player_mask]\n",
    "\n",
    "    if player_data.empty:\n",
    "        sharpe_data.append({'Player': player, 'Sharpe': np.nan})\n",
    "        continue\n",
    "\n",
    "    try:\n",
    "        weekly_points = pd.to_numeric(player_data[weekly_cols].iloc[0], errors='coerce').dropna()\n",
    "        if len(weekly_points) < 2:\n",
    "            sharpe_data.append({'Player': player, 'Sharpe': np.nan})\n",
    "            continue\n",
    "\n",
    "        std_dev = weekly_points.std()\n",
    "        sharpe = player_data['Projected_Points'].iloc[0] / std_dev if std_dev > 0 else np.nan\n",
    "        sharpe_data.append({'Player': player, 'Sharpe': sharpe})\n",
    "    except:\n",
    "        sharpe_data.append({'Player': player, 'Sharpe': np.nan})\n"
   ]
  },
  {
   "cell_type": "code",
   "execution_count": 38,
   "id": "cfa387ad-4ad1-4e36-8cc0-d940d22a7bbb",
   "metadata": {},
   "outputs": [],
   "source": [
    "# Merge Sharpe data\n",
    "sharpe_df = pd.DataFrame(sharpe_data)\n",
    "merged = merged.merge(sharpe_df, on='Player', how='left')\n"
   ]
  },
  {
   "cell_type": "code",
   "execution_count": 39,
   "id": "4de08ff3-117c-4c3a-a031-0d4eafa74101",
   "metadata": {},
   "outputs": [],
   "source": [
    "# Handle missing Sharpe values\n",
    "merged['Sharpe'] = merged['Sharpe'].fillna(merged['Sharpe'].min())"
   ]
  },
  {
   "cell_type": "code",
   "execution_count": 40,
   "id": "a5841ac4-683a-4aec-8d7a-f9c0283d5cf7",
   "metadata": {},
   "outputs": [],
   "source": [
    "# Calculate final keeper value\n",
    "merged['keeper_value'] = 0.75 * merged['total_value'] + 0.25 * merged['Sharpe']\n",
    "\n",
    "# Scale to [-1, 1]\n",
    "#min_k = merged['keeper_value'].min()\n",
    "#max_k = merged['keeper_value'].max()\n",
    "#merged['keeper_value'] = 2 * (merged['keeper_value'] - min_k) / (max_k - min_k) - 1\n"
   ]
  },
  {
   "cell_type": "code",
   "execution_count": 41,
   "id": "0e8149db-b7d8-41ba-9f57-89b8afd32ba7",
   "metadata": {},
   "outputs": [
    {
     "name": "stdout",
     "output_type": "stream",
     "text": [
      "\n",
      "Top Keeper Values:\n",
      "       Player  keeper_value\n",
      "George Kittle        70.095\n",
      "       Player  Sharpe\n",
      "George Kittle  30.156\n"
     ]
    }
   ],
   "source": [
    "# Clean output\n",
    "print(\"\\nTop Keeper Values:\")\n",
    "print(merged[['Player', 'keeper_value']]\n",
    "      .sort_values('keeper_value', ascending=False)\n",
    "      .round(3)\n",
    "      .to_string(index=False))\n",
    "print(merged[['Player', 'Sharpe']]\n",
    "      .sort_values('Sharpe', ascending=False)\n",
    "      .round(3)\n",
    "      .to_string(index=False))"
   ]
  },
  {
   "cell_type": "code",
   "execution_count": null,
   "id": "a146d71c-2fd6-4330-af27-cc57f6a7407c",
   "metadata": {},
   "outputs": [],
   "source": []
  }
 ],
 "metadata": {
  "kernelspec": {
   "display_name": "Python [conda env:anaconda3] *",
   "language": "python",
   "name": "conda-env-anaconda3-py"
  },
  "language_info": {
   "codemirror_mode": {
    "name": "ipython",
    "version": 3
   },
   "file_extension": ".py",
   "mimetype": "text/x-python",
   "name": "python",
   "nbconvert_exporter": "python",
   "pygments_lexer": "ipython3",
   "version": "3.13.5"
  }
 },
 "nbformat": 4,
 "nbformat_minor": 5
}
